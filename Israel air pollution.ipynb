{
 "metadata": {
  "name": ""
 },
 "nbformat": 3,
 "nbformat_minor": 0,
 "worksheets": [
  {
   "cells": [
    {
     "cell_type": "markdown",
     "metadata": {},
     "source": [
      "# Israel air polution\n",
      "\n",
      "In the last few days there have been a few articles in Israeli papers about an WTO report describing the air polution in israel. E.g. in the following article it is stated that Israel is the 12th most poluted country in the world. See:\n",
      "\n",
      "http://www.ynet.co.il/articles/0,7340,L-4517136,00.html\n",
      "\n",
      "This notebook will explore the raw data with ipython."
     ]
    },
    {
     "cell_type": "markdown",
     "metadata": {},
     "source": [
      "# Exploring the data"
     ]
    },
    {
     "cell_type": "markdown",
     "metadata": {},
     "source": [
      "## Setup and getting the python packages we need"
     ]
    },
    {
     "cell_type": "code",
     "collapsed": false,
     "input": [
      "%pylab inline\n",
      "import pandas as pd\n",
      "import urlgrabber\n",
      "\n",
      "# Get the data. I have manually explored the xls files with gnumeric to learn its structure.\n",
      "url = 'http://www.who.int/entity/quantifying_ehimpacts/national/countryprofile/AAP_PM_database_May2014.xls?ua=1'\n",
      "local_file = urlgrabber.urlgrab(url)\n",
      "a=pd.read_excel(local_file,'cities',skiprows=1,skip_footer=10)\n",
      "a.columns"
     ],
     "language": "python",
     "metadata": {},
     "outputs": [
      {
       "output_type": "stream",
       "stream": "stdout",
       "text": [
        "Populating the interactive namespace from numpy and matplotlib\n"
       ]
      },
      {
       "metadata": {},
       "output_type": "pyout",
       "prompt_number": 2,
       "text": [
        "Index([u'Region', u'Subregion', u'Country', u'City/station', u'PM10', u'PM10.1', u'note on converted PM10', u'PM 2.5', u'PM2.5', u'note on converted PM2.5', u'of monitoring stations', u'Temporal coverage', u'for air quality', u'Unnamed: 13', u'Unnamed: 14'], dtype='object')"
       ]
      }
     ],
     "prompt_number": 2
    },
    {
     "cell_type": "markdown",
     "metadata": {},
     "source": [
      "## Exploring the data"
     ]
    },
    {
     "cell_type": "code",
     "collapsed": false,
     "input": [
      "countries = a.Country.unique()\n",
      "len(countries)"
     ],
     "language": "python",
     "metadata": {},
     "outputs": [
      {
       "metadata": {},
       "output_type": "pyout",
       "prompt_number": 6,
       "text": [
        "92"
       ]
      }
     ],
     "prompt_number": 6
    },
    {
     "cell_type": "code",
     "collapsed": false,
     "input": [
      "# Let's check spelling of Israel, which will show that it has a space.\n",
      "[c for c in countries if 'Israel' in c]"
     ],
     "language": "python",
     "metadata": {},
     "outputs": [
      {
       "metadata": {},
       "output_type": "pyout",
       "prompt_number": 8,
       "text": [
        "[u'Israel ']"
       ]
      }
     ],
     "prompt_number": 8
    },
    {
     "cell_type": "code",
     "collapsed": false,
     "input": [
      "# How many data points\n",
      "len(a)"
     ],
     "language": "python",
     "metadata": {},
     "outputs": [
      {
       "metadata": {},
       "output_type": "pyout",
       "prompt_number": 9,
       "text": [
        "1626"
       ]
      }
     ],
     "prompt_number": 9
    },
    {
     "cell_type": "code",
     "collapsed": false,
     "input": [
      "# We are interested in pm10 so let's save it together with the country city and station\n",
      "pm10 = a.PM10\n",
      "pm10.hist(bins=50)"
     ],
     "language": "python",
     "metadata": {},
     "outputs": [
      {
       "metadata": {},
       "output_type": "pyout",
       "prompt_number": 11,
       "text": [
        "<matplotlib.axes.AxesSubplot at 0x9fad54c>"
       ]
      },
      {
       "metadata": {},
       "output_type": "display_data",
       "png": "[encoded data removed]",
       "text": [
        "<matplotlib.figure.Figure at 0x9fad9ec>"
       ]
      }
     ],
     "prompt_number": 11
    },
    {
     "cell_type": "code",
     "collapsed": false,
     "input": [
      "# Let's see the situtation in Israel\n",
      "a[a.Country=='Israel '][['City/station','PM10']]"
     ],
     "language": "python",
     "metadata": {},
     "outputs": [
      {
       "html": [
        "<div style=\"max-height:1000px;max-width:1500px;overflow:auto;\">\n",
        "<table border=\"1\" class=\"dataframe\">\n",
        "  <thead>\n",
        "    <tr style=\"text-align: right;\">\n",
        "      <th></th>\n",
        "      <th>City/station</th>\n",
        "      <th>PM10</th>\n",
        "    </tr>\n",
        "  </thead>\n",
        "  <tbody>\n",
        "    <tr>\n",
        "      <th>976</th>\n",
        "      <td>                                            Ashdod</td>\n",
        "      <td> 62.000000</td>\n",
        "    </tr>\n",
        "    <tr>\n",
        "      <th>977</th>\n",
        "      <td>                                          Ashkelon</td>\n",
        "      <td> 74.000000</td>\n",
        "    </tr>\n",
        "    <tr>\n",
        "      <th>978</th>\n",
        "      <td>                                         Beersheva</td>\n",
        "      <td> 68.000000</td>\n",
        "    </tr>\n",
        "    <tr>\n",
        "      <th>979</th>\n",
        "      <td>                                     Beit Shemesh </td>\n",
        "      <td> 68.000000</td>\n",
        "    </tr>\n",
        "    <tr>\n",
        "      <th>980</th>\n",
        "      <td>                                            Gadera</td>\n",
        "      <td>       NaN</td>\n",
        "    </tr>\n",
        "    <tr>\n",
        "      <th>981</th>\n",
        "      <td>                                            Hadera</td>\n",
        "      <td> 46.000000</td>\n",
        "    </tr>\n",
        "    <tr>\n",
        "      <th>982</th>\n",
        "      <td>                              Haifa (Metropolitan)</td>\n",
        "      <td> 45.333333</td>\n",
        "    </tr>\n",
        "    <tr>\n",
        "      <th>983</th>\n",
        "      <td> Heftzibah (Gilboa-Beit Shean Valley -northeast...</td>\n",
        "      <td> 53.000000</td>\n",
        "    </tr>\n",
        "    <tr>\n",
        "      <th>984</th>\n",
        "      <td>               Karmei Yosef - (rural) Gezer Region</td>\n",
        "      <td> 66.000000</td>\n",
        "    </tr>\n",
        "    <tr>\n",
        "      <th>985</th>\n",
        "      <td>                Kibbutz Erez (southwestern Israel)</td>\n",
        "      <td> 68.000000</td>\n",
        "    </tr>\n",
        "    <tr>\n",
        "      <th>986</th>\n",
        "      <td>          Kibbutz Sde Yoav (rural southern Israel)</td>\n",
        "      <td>       NaN</td>\n",
        "    </tr>\n",
        "    <tr>\n",
        "      <th>987</th>\n",
        "      <td>                                    Kiryat Malachi</td>\n",
        "      <td>       NaN</td>\n",
        "    </tr>\n",
        "    <tr>\n",
        "      <th>988</th>\n",
        "      <td>                                           Modi'in</td>\n",
        "      <td> 69.500000</td>\n",
        "    </tr>\n",
        "    <tr>\n",
        "      <th>989</th>\n",
        "      <td>                                           Rehovot</td>\n",
        "      <td> 63.000000</td>\n",
        "    </tr>\n",
        "    <tr>\n",
        "      <th>990</th>\n",
        "      <td>                                            Sderot</td>\n",
        "      <td>       NaN</td>\n",
        "    </tr>\n",
        "    <tr>\n",
        "      <th>991</th>\n",
        "      <td>                           Tel Aviv (Metropolitan)</td>\n",
        "      <td> 66.750000</td>\n",
        "    </tr>\n",
        "  </tbody>\n",
        "</table>\n",
        "<p>16 rows \u00d7 2 columns</p>\n",
        "</div>"
       ],
       "metadata": {},
       "output_type": "pyout",
       "prompt_number": 14,
       "text": [
        "                                          City/station       PM10\n",
        "976                                             Ashdod  62.000000\n",
        "977                                           Ashkelon  74.000000\n",
        "978                                          Beersheva  68.000000\n",
        "979                                      Beit Shemesh   68.000000\n",
        "980                                             Gadera        NaN\n",
        "981                                             Hadera  46.000000\n",
        "982                               Haifa (Metropolitan)  45.333333\n",
        "983  Heftzibah (Gilboa-Beit Shean Valley -northeast...  53.000000\n",
        "984                Karmei Yosef - (rural) Gezer Region  66.000000\n",
        "985                 Kibbutz Erez (southwestern Israel)  68.000000\n",
        "986           Kibbutz Sde Yoav (rural southern Israel)        NaN\n",
        "987                                     Kiryat Malachi        NaN\n",
        "988                                            Modi'in  69.500000\n",
        "989                                            Rehovot  63.000000\n",
        "990                                             Sderot        NaN\n",
        "991                            Tel Aviv (Metropolitan)  66.750000\n",
        "\n",
        "[16 rows x 2 columns]"
       ]
      }
     ],
     "prompt_number": 14
    },
    {
     "cell_type": "code",
     "collapsed": false,
     "input": [
      "# This is easily summarized\n",
      "pm10_israel = a[a.Country=='Israel '].PM10\n",
      "d = pm10_israel.describe()\n",
      "israel_mean = d.mean()\n",
      "israel_max = d.max()\n",
      "d"
     ],
     "language": "python",
     "metadata": {},
     "outputs": [
      {
       "metadata": {},
       "output_type": "pyout",
       "prompt_number": 39,
       "text": [
        "count    12.000000\n",
        "mean     62.465278\n",
        "std       9.341951\n",
        "min      45.333333\n",
        "25%      59.750000\n",
        "50%      66.375000\n",
        "75%      68.000000\n",
        "max      74.000000\n",
        "Name: PM10, dtype: float64"
       ]
      }
     ],
     "prompt_number": 39
    },
    {
     "cell_type": "code",
     "collapsed": false,
     "input": [
      "# By using groupby we can compare israel to other countries.\n",
      "g = a.groupby('Country')\n",
      "pm10_mean = g.PM10.mean().order().dropna()\n",
      "pm10_max = g.PM10.max().order().dropna()"
     ],
     "language": "python",
     "metadata": {},
     "outputs": [],
     "prompt_number": 24
    },
    {
     "cell_type": "code",
     "collapsed": false,
     "input": [
      "# Let's check these values\n",
      "pm10_mean"
     ],
     "language": "python",
     "metadata": {},
     "outputs": [
      {
       "metadata": {},
       "output_type": "pyout",
       "prompt_number": 26,
       "text": [
        "Country\n",
        "Iceland                      9.705667\n",
        "Finland                     11.470375\n",
        "Denmark                     12.147000\n",
        "Australia                   12.601444\n",
        "Brunei Darussalam           14.500000\n",
        "Estonia                     15.028833\n",
        "New Zealand                 15.411765\n",
        "United States of America    15.990765\n",
        "Sweden                      16.900000\n",
        "Ireland                     17.265750\n",
        "Norway                      18.065500\n",
        "Luxembourg                  18.249000\n",
        "Monaco                      19.500000\n",
        "United Kingdom              19.587282\n",
        "Maldives                    20.000000\n",
        "...\n",
        "China                    88.000000\n",
        "Ghana                    97.800000\n",
        "India                   102.000000\n",
        "Mongolia                109.875000\n",
        "Nepal                   114.000000\n",
        "Jordan                  127.900000\n",
        "Egypt                   137.500000\n",
        "Bangladesh              153.500000\n",
        "United Arab Emirates    159.666667\n",
        "Qatar                   159.816667\n",
        "Iran                    177.046667\n",
        "Senegal                 179.000000\n",
        "Bahrain                 249.620000\n",
        "Afghanistan             297.000000\n",
        "Pakistan                364.750000\n",
        "Name: PM10, Length: 90, dtype: float64"
       ]
      }
     ],
     "prompt_number": 26
    },
    {
     "cell_type": "code",
     "collapsed": false,
     "input": [
      "pm10_max"
     ],
     "language": "python",
     "metadata": {},
     "outputs": [
      {
       "metadata": {},
       "output_type": "pyout",
       "prompt_number": 27,
       "text": [
        "Country\n",
        "Iceland              10.8210\n",
        "Denmark              12.1470\n",
        "Finland              13.0655\n",
        "Brunei Darussalam    17.0000\n",
        "Estonia              17.3520\n",
        "Ireland              17.8825\n",
        "Luxembourg           18.2490\n",
        "Australia            19.2000\n",
        "Monaco               19.5000\n",
        "Maldives             20.0000\n",
        "Sweden               20.6560\n",
        "Norway               22.8860\n",
        "Latvia               22.9530\n",
        "Bhutan               23.0000\n",
        "Lithuania            23.4890\n",
        "...\n",
        "Jordan                  127.900000\n",
        "Mauritius               130.550000\n",
        "Turkey                  134.752000\n",
        "Egypt                   140.000000\n",
        "China                   155.000000\n",
        "Qatar                   167.633333\n",
        "United Arab Emirates    171.000000\n",
        "Mongolia                174.000000\n",
        "Senegal                 179.000000\n",
        "Bangladesh              195.000000\n",
        "Bahrain                 317.880000\n",
        "Iran                    319.600000\n",
        "India                   329.000000\n",
        "Afghanistan             334.000000\n",
        "Pakistan                540.000000\n",
        "Name: PM10, Length: 90, dtype: float64"
       ]
      }
     ],
     "prompt_number": 27
    },
    {
     "cell_type": "code",
     "collapsed": false,
     "input": [
      "# Let's count how many of these are worse than israel\n",
      "(pm10_max > israel_max).sum()"
     ],
     "language": "python",
     "metadata": {},
     "outputs": [
      {
       "metadata": {},
       "output_type": "pyout",
       "prompt_number": 42,
       "text": [
        "29"
       ]
      }
     ],
     "prompt_number": 42
    },
    {
     "cell_type": "code",
     "collapsed": false,
     "input": [
      "(pm10_mean > israel_mean).sum()"
     ],
     "language": "python",
     "metadata": {},
     "outputs": [
      {
       "metadata": {},
       "output_type": "pyout",
       "prompt_number": 43,
       "text": [
        "36"
       ]
      }
     ],
     "prompt_number": 43
    },
    {
     "cell_type": "code",
     "collapsed": false,
     "input": [
      "# Let's check who these are\n",
      "pm10_max[pm10_max >= israel_max]"
     ],
     "language": "python",
     "metadata": {},
     "outputs": [
      {
       "metadata": {},
       "output_type": "pyout",
       "prompt_number": 45,
       "text": [
        "Country\n",
        "Israel                               74.000000\n",
        "United States of America             74.333331\n",
        "Bolivia (Plurinational State of)     75.040000\n",
        "Chile                                79.000000\n",
        "Brazil                               81.000000\n",
        "Lebanon                              81.000000\n",
        "Oman                                 82.082500\n",
        "Viet Nam                             86.000000\n",
        "Saudi Arabia                         87.300000\n",
        "Mexico                               93.400000\n",
        "Peru                                 94.640000\n",
        "Ghana                                97.800000\n",
        "South Africa                         97.833333\n",
        "Philippines                         107.000000\n",
        "Nepal                               114.000000\n",
        "Jordan                              127.900000\n",
        "Mauritius                           130.550000\n",
        "Turkey                              134.752000\n",
        "Egypt                               140.000000\n",
        "China                               155.000000\n",
        "Qatar                               167.633333\n",
        "United Arab Emirates                171.000000\n",
        "Mongolia                            174.000000\n",
        "Senegal                             179.000000\n",
        "Bangladesh                          195.000000\n",
        "Bahrain                             317.880000\n",
        "Iran                                319.600000\n",
        "India                               329.000000\n",
        "Afghanistan                         334.000000\n",
        "Pakistan                            540.000000\n",
        "Name: PM10, dtype: float64"
       ]
      }
     ],
     "prompt_number": 45
    },
    {
     "cell_type": "code",
     "collapsed": false,
     "input": [
      "pm10_mean[pm10_mean >= israel_mean]"
     ],
     "language": "python",
     "metadata": {},
     "outputs": [
      {
       "metadata": {},
       "output_type": "pyout",
       "prompt_number": 46,
       "text": [
        "Country\n",
        "Republic of Korea                      51.083333\n",
        "Bulgaria                               51.967256\n",
        "Venezuela (Bolivarian Republic of)     52.000000\n",
        "Mauritius                              52.293750\n",
        "Chile                                  52.752083\n",
        "South Africa                           53.380952\n",
        "Honduras                               57.760000\n",
        "Bolivia (Plurinational State of)       58.645000\n",
        "Serbia                                 58.914167\n",
        "Liberia                                59.000000\n",
        "Peru                                   59.911627\n",
        "Mexico                                 61.833333\n",
        "Viet Nam                               62.000000\n",
        "Israel                                 62.465278\n",
        "Turkey                                 63.820074\n",
        "Sri Lanka                              64.000000\n",
        "Philippines                            67.666667\n",
        "Myanmar                                68.525000\n",
        "Lebanon                                72.183333\n",
        "Oman                                   82.082500\n",
        "Saudi Arabia                           87.300000\n",
        "China                                  88.000000\n",
        "Ghana                                  97.800000\n",
        "India                                 102.000000\n",
        "Mongolia                              109.875000\n",
        "Nepal                                 114.000000\n",
        "Jordan                                127.900000\n",
        "Egypt                                 137.500000\n",
        "Bangladesh                            153.500000\n",
        "United Arab Emirates                  159.666667\n",
        "Qatar                                 159.816667\n",
        "Iran                                  177.046667\n",
        "Senegal                               179.000000\n",
        "Bahrain                               249.620000\n",
        "Afghanistan                           297.000000\n",
        "Pakistan                              364.750000\n",
        "Name: PM10, dtype: float64"
       ]
      }
     ],
     "prompt_number": 46
    },
    {
     "cell_type": "code",
     "collapsed": false,
     "input": [
      "# Let's plot these with some fancy colering\n",
      "s = pm10_mean.tail(25)\n",
      "my_color = ['r' if lbl=='Israel ' else 'b' for lbl in s.index]\n",
      "s.plot(kind='barh',color=my_color)\n"
     ],
     "language": "python",
     "metadata": {},
     "outputs": [
      {
       "metadata": {},
       "output_type": "pyout",
       "prompt_number": 49,
       "text": [
        "<matplotlib.axes.AxesSubplot at 0xa6df8cc>"
       ]
      },
      {
       "metadata": {},
       "output_type": "display_data",
       "png": "[encoded data removed]",
       "text": [
        "<matplotlib.figure.Figure at 0xa734fec>"
       ]
      }
     ],
     "prompt_number": 49
    },
    {
     "cell_type": "code",
     "collapsed": false,
     "input": [
      "# The same for the max\n",
      "smax = pm10_max.tail(30)\n",
      "my_color = ['r' if lbl=='Israel ' else 'b' for lbl in smax.index]\n",
      "smax.plot(kind='barh',color=my_color)\n"
     ],
     "language": "python",
     "metadata": {},
     "outputs": [
      {
       "metadata": {},
       "output_type": "pyout",
       "prompt_number": 51,
       "text": [
        "<matplotlib.axes.AxesSubplot at 0xab13c8c>"
       ]
      },
      {
       "metadata": {},
       "output_type": "display_data",
       "png": "[encoded data removed]",
       "text": [
        "<matplotlib.figure.Figure at 0xab2642c>"
       ]
      }
     ],
     "prompt_number": 51
    },
    {
     "cell_type": "code",
     "collapsed": false,
     "input": [],
     "language": "python",
     "metadata": {},
     "outputs": []
    }
   ],
   "metadata": {}
  }
 ]
}